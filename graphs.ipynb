{
 "cells": [
  {
   "attachments": {},
   "cell_type": "markdown",
   "metadata": {},
   "source": [
    "## Import all necessary modules"
   ]
  },
  {
   "cell_type": "code",
   "execution_count": 1,
   "metadata": {},
   "outputs": [],
   "source": [
    "import math, os\n",
    "from pathlib import Path\n",
    "import numpy as np\n",
    "import pandas as pd\n",
    "import matplotlib.pyplot as plt\n",
    "import seaborn as sns \n",
    "\n",
    "def is_number(s):\n",
    "    try:\n",
    "        float(s)\n",
    "        return True\n",
    "    except ValueError:\n",
    "        return False"
   ]
  },
  {
   "attachments": {},
   "cell_type": "markdown",
   "metadata": {},
   "source": [
    "## Prepare folder for data"
   ]
  },
  {
   "cell_type": "code",
   "execution_count": 2,
   "metadata": {},
   "outputs": [],
   "source": [
    "# check if the folders for ExperimentalData exists; if not, create one\n",
    "Path('./ExperimentalData/').mkdir(parents=True, exist_ok=True)\n",
    "Path('./CompiledData/').mkdir(parents=True, exist_ok=True)\n",
    "list_of_folders = ['AC','OSA','OSC','RF']\n",
    "for i in list_of_folders:\n",
    "    Path('./ExperimentalData/'+i+'/').mkdir(parents=True, exist_ok=True)\n"
   ]
  },
  {
   "attachments": {},
   "cell_type": "markdown",
   "metadata": {},
   "source": [
    "**Remember to place all data files in their corresponding folders before proceeding!**"
   ]
  },
  {
   "attachments": {},
   "cell_type": "markdown",
   "metadata": {},
   "source": [
    "## Read data in \"ExperimentalData\" folder"
   ]
  },
  {
   "cell_type": "code",
   "execution_count": 225,
   "metadata": {},
   "outputs": [],
   "source": [
    "# assign path and make a list of all files in directory\n",
    "# dirs will be the list of all folders (can use list_of_folders instead)....................................................................................................\n",
    "path, dirs, files = next(os.walk(\"./ExperimentalData/\"))\n",
    "file_count = len(files)\n",
    "Files=[]\n",
    "\n",
    "# this is to keep track of the directories of all the data files ('dis' is not a typo)\n",
    "for i in range(len(dirs)):\n",
    "    path, dis, files = next(os.walk(\"./ExperimentalData/\"+dirs[i]))\n",
    "    Files.append(files)\n",
    "    file_count = file_count + len(files)\n",
    "\n",
    "# create empty list\n",
    "dataframes_list = []\n",
    " \n",
    "# append datasets to the list \n",
    "for k in range(len(dirs)):\n",
    "    temp_df = []\n",
    "    for i in range(len(Files[k])):\n",
    "        # checks the AUTOCORRELATOR folder for txt files then append \n",
    "        if dirs[k] == 'AC' and Files[k][i].endswith('.txt'):\n",
    "            data=[]\n",
    "            with open('./ExperimentalData/'+dirs[k]+'/'+Files[k][i]) as file:\n",
    "                section, section2 = '',''\n",
    "                for line in file:\n",
    "                    if line.startswith(\"Delay\") == True:\n",
    "                        section = 'data'\n",
    "                        if len(line.strip().split('\\t')) == 1:\n",
    "                            line = line.strip().split()\n",
    "                            cname = line\n",
    "                            section2 = 'data' \n",
    "                        else:\n",
    "                            line = line.strip().split('\\t')\n",
    "                            cname = line  \n",
    "                    elif section == 'data': \n",
    "                        if section2 == 'data':\n",
    "                            line = line.strip().split()\n",
    "                            if is_number(line[0]):\n",
    "                                data.append(float(x) for x in line)\n",
    "                        else:\n",
    "                            line = line.strip().split('\\t')\n",
    "                            if is_number(line[0]):\n",
    "                                data.append(float(x) for x in line)\n",
    "                temper_df = pd.DataFrame(data,columns=cname)\n",
    "                temper_df.index = range(len(temper_df))\n",
    "                # add normalisation into data (min-max feature scaling method)\n",
    "                temper_df['NormInt' + str(i)] = (temper_df[cname[1]] - temper_df[cname[1]].min()) \\\n",
    "                / (temper_df[cname[1]].max() - temper_df[cname[1]].min())\n",
    "                temper_df['NormFit' + str(i)] = (temper_df[cname[2]] - temper_df[cname[2]].min()) \\\n",
    "                / (temper_df[cname[2]].max() - temper_df[cname[2]].min())\n",
    "                row_index = (temper_df == 1).any(axis=1).idxmax()\n",
    "                row = temper_df.loc[row_index]\n",
    "                temper_df[cname[0]] = temper_df[cname[0]] - row[cname[0]]\n",
    "                temper_df = temper_df.rename(columns={cname[0]:'Delay' + str(i) + '(ps)', cname[1]:'Intensity' + str(i), cname[2]:'Fit' + str(i)})\n",
    "                if i == 0:\n",
    "                    temp_df = temper_df\n",
    "                else: \n",
    "                    temp_df = temp_df.join(temper_df)\n",
    "        # checks the OSA folder for CSV files then append \n",
    "        elif dirs[k] == 'OSA' and Files[k][i].endswith('.CSV'):\n",
    "            data = []\n",
    "            with open('./ExperimentalData/'+dirs[k]+'/'+Files[k][i]) as f:\n",
    "                section = ''\n",
    "                for line in f:\n",
    "                    if line.strip() == '\"[TRACE DATA]\"':\n",
    "                        section = 'data'\n",
    "                    elif section == 'data':\n",
    "                        data.append([float(x) for x in line.strip().split(',')])\n",
    "                if i == 0:\n",
    "                    temp_df = pd.DataFrame(data, columns=['Wavelength' + str(i) + ' (nm)', 'Intensity' + str(i) + ' (dBm)'])\n",
    "                else:\n",
    "                    temp_df = temp_df.join(pd.DataFrame(data, columns=['Wavelength' + str(i) + ' (nm)', 'Intensity' + str(i) + ' (dBm)']))\n",
    "        # checks the OSCILLOSCOPE folder for files then append \n",
    "        elif dirs[k] == 'OSC':\n",
    "            data = []\n",
    "            with open('./ExperimentalData/'+dirs[k]+'/'+Files[k][i]) as f:\n",
    "                section = ''\n",
    "                for line in f:\n",
    "                    line = line.strip().split(',')\n",
    "                    if is_number(line[0]) or section == 'data':\n",
    "                        line = [x for x in line if x != '']\n",
    "                        data.append([float(x) for x in line])\n",
    "                    if line == '\\n':\n",
    "                        section = 'data'\n",
    "                if i == 0:\n",
    "                    temp_df = pd.DataFrame(data, columns=['Time' + str(i) + ' (s)','Voltage' + str(i) + ' (V)'])\n",
    "                else:\n",
    "                    temp_df = temp_df.join(pd.DataFrame(data, columns=['Time' + str(i) + ' (s)','Voltage' + str(i) + ' (V)']))\n",
    "        # checks the RFSPECTRUM folder for csv files then append \n",
    "        elif dirs[k] == 'RF' and Files[k][i].endswith('.csv'):\n",
    "            with open('./ExperimentalData/'+dirs[k]+'/'+Files[k][i]) as f:\n",
    "                data=[]\n",
    "                section = ''\n",
    "                for line in f:\n",
    "                    if line == '\\n':\n",
    "                        section = 'data'\n",
    "                    elif section == 'data':\n",
    "                        line = line.strip().split(',')\n",
    "                        while('' in line):\n",
    "                            line.remove('')\n",
    "                        if is_number(line[0]):\n",
    "                            data.append(float(x) for x in line)\n",
    "                if i == 0:\n",
    "                    temp_df = pd.DataFrame(data,columns=['Frequency' + str(i) + ' (Hz)','Maximum' + str(i) + ' (dBm)', 'Minimum' + str(i) + ' (dBm)'])\n",
    "                else:\n",
    "                    temp_df = temp_df.join(pd.DataFrame(data,columns=['Frequency' + str(i) + ' (Hz)','Maximum' + str(i) + ' (dBm)', 'Minimum' + str(i) + ' (dBm)']))\n",
    "    dataframes_list.append(temp_df)  \n",
    "\n",
    "# display datasets\n",
    "# for dataset in dataframes_list:\n",
    "#    display(dataset)"
   ]
  },
  {
   "cell_type": "code",
   "execution_count": 229,
   "metadata": {},
   "outputs": [],
   "source": [
    "list_of_folders \n",
    "\n",
    "# set compile data save location\n",
    "for x in list_of_folders:  \n",
    "    compilefilelocation = './CompiledData/'\n",
    "    if len(dataframes_list[dirs.index(x)]) > 0:\n",
    "        dataframes_list[dirs.index(x)].to_csv(compilefilelocation + 'Compile' + x + '.csv',index=False)"
   ]
  },
  {
   "cell_type": "code",
   "execution_count": null,
   "metadata": {},
   "outputs": [],
   "source": [
    "#sns.set_style(\"white\")\n",
    "#sns.lineplot(dataframes_list[0],x=\"Delay [ps]\",y=\"NormInt\")"
   ]
  }
 ],
 "metadata": {
  "kernelspec": {
   "display_name": "Python 3",
   "language": "python",
   "name": "python3"
  },
  "language_info": {
   "codemirror_mode": {
    "name": "ipython",
    "version": 3
   },
   "file_extension": ".py",
   "mimetype": "text/x-python",
   "name": "python",
   "nbconvert_exporter": "python",
   "pygments_lexer": "ipython3",
   "version": "3.11.2"
  },
  "orig_nbformat": 4
 },
 "nbformat": 4,
 "nbformat_minor": 2
}
