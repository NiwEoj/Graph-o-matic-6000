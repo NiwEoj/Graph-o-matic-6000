{
 "cells": [
  {
   "cell_type": "code",
   "execution_count": 2,
   "metadata": {},
   "outputs": [],
   "source": [
    "import math\n",
    "import numpy as np\n",
    "import pandas as pd\n",
    "import matplotlib.pyplot as plt\n",
    "import seaborn as sns "
   ]
  },
  {
   "cell_type": "code",
   "execution_count": 25,
   "metadata": {},
   "outputs": [
    {
     "name": "stdout",
     "output_type": "stream",
     "text": [
      "[WindowsPath('../Graph-o-matic-6000/ExperiementalData/hi.csv')]\n"
     ]
    }
   ],
   "source": [
    "import pathlib\n",
    "\n",
    "# folder path\n",
    "dir_path = r'../Graph-o-matic-6000/ExperiementalData/'\n",
    "\n",
    "# to store file names\n",
    "res = []\n",
    "\n",
    "# construct path object\n",
    "d = pathlib.Path(dir_path)\n",
    "\n",
    "# iterate directory\n",
    "for entry in d.iterdir():\n",
    "    # check if it a file\n",
    "    if entry.is_file():\n",
    "        res.append(entry)\n",
    "print(res)"
   ]
  }
 ],
 "metadata": {
  "kernelspec": {
   "display_name": "Python 3",
   "language": "python",
   "name": "python3"
  },
  "language_info": {
   "codemirror_mode": {
    "name": "ipython",
    "version": 3
   },
   "file_extension": ".py",
   "mimetype": "text/x-python",
   "name": "python",
   "nbconvert_exporter": "python",
   "pygments_lexer": "ipython3",
   "version": "3.11.2"
  },
  "orig_nbformat": 4
 },
 "nbformat": 4,
 "nbformat_minor": 2
}
