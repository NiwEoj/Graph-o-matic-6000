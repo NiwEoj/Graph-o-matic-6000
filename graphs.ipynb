{
 "cells": [
  {
   "attachments": {},
   "cell_type": "markdown",
   "metadata": {},
   "source": [
    "## Import all necessary modules"
   ]
  },
  {
   "cell_type": "code",
   "execution_count": 1,
   "metadata": {},
   "outputs": [],
   "source": [
    "import math, os\n",
    "from pathlib import Path\n",
    "import numpy as np\n",
    "import pandas as pd\n",
    "import matplotlib.pyplot as plt\n",
    "import seaborn as sns \n",
    "\n",
    "def is_number(s):\n",
    "    try:\n",
    "        float(s)\n",
    "        return True\n",
    "    except ValueError:\n",
    "        return False"
   ]
  },
  {
   "attachments": {},
   "cell_type": "markdown",
   "metadata": {},
   "source": [
    "## Prepare folder for data"
   ]
  },
  {
   "cell_type": "code",
   "execution_count": 2,
   "metadata": {},
   "outputs": [],
   "source": [
    "# check if the folders for ExperimentalData exists; if not, create one\n",
    "Path('./ExperimentalData/').mkdir(parents=True, exist_ok=True)\n",
    "Path('./CompiledData/').mkdir(parents=True, exist_ok=True)\n",
    "list_of_folders = ['AC','OSA','OSC','RF']\n",
    "for i in list_of_folders:\n",
    "    Path('./ExperimentalData/'+i+'/').mkdir(parents=True, exist_ok=True)\n"
   ]
  },
  {
   "attachments": {},
   "cell_type": "markdown",
   "metadata": {},
   "source": [
    "**Remember to place all data files in their corresponding folders before proceeding!**"
   ]
  },
  {
   "attachments": {},
   "cell_type": "markdown",
   "metadata": {},
   "source": [
    "## Read data in \"ExperimentalData\" folder"
   ]
  },
  {
   "cell_type": "code",
   "execution_count": 66,
   "metadata": {},
   "outputs": [],
   "source": [
    "# assign path and make a list of all files in directory\n",
    "# dirs will be the list of all folders (can use list_of_folders instead)....................................................................................................\n",
    "path, dirs, files = next(os.walk(\"./ExperimentalData/\"))\n",
    "file_count = len(files)\n",
    "Files=[]\n",
    "\n",
    "# this is to keep track of the directories of all the data files ('dis' is not a typo)\n",
    "for i in range(len(dirs)):\n",
    "    path, dis, files = next(os.walk(\"./ExperimentalData/\"+dirs[i]))\n",
    "    Files.append(files)\n",
    "    file_count = file_count + len(files)\n",
    "\n",
    "# create empty list\n",
    "dataframes_list = []\n",
    " \n",
    "# append datasets to the list \n",
    "for k in range(len(dirs)):\n",
    "    temp_df = []\n",
    "    for i in range(len(Files[k])):\n",
    "        # checks the AUTOCORRELATOR folder for txt files then append \n",
    "        if dirs[k] == 'AC' and Files[k][i].endswith('.txt'):\n",
    "            data=[]\n",
    "            with open('./ExperimentalData/'+dirs[k]+'/'+Files[k][i]) as file:\n",
    "                for line in file:\n",
    "                    if line.startswith(\"#\") == False:\n",
    "                        line = line.strip().split('\\t')\n",
    "                        if is_number(line[0]):\n",
    "                            data.append(float(x) for x in line)\n",
    "                        else:\n",
    "                            cname = line   \n",
    "                temp_df = pd.DataFrame(data,columns=cname)\n",
    "                temp_df.index = range(len(temp_df))\n",
    "                # add normalisation into data (min-max feature scaling method)\n",
    "                temp_df['NormInt'] = (temp_df['Intensity [arb.u.]'] - temp_df['Intensity [arb.u.]'].min()) \\\n",
    "                / (temp_df['Intensity [arb.u.]'].max() - temp_df['Intensity [arb.u.]'].min())\n",
    "                temp_df['NormFit'] = (temp_df['Fit [arb.u.]'] - temp_df['Intensity [arb.u.]'].min()) \\\n",
    "                / (temp_df['Intensity [arb.u.]'].max() - temp_df['Intensity [arb.u.]'].min())\n",
    "                row_index = (temp_df == 1).any(axis=1).idxmax()\n",
    "                row = temp_df.loc[row_index]\n",
    "                temp_df['Delay [ps]'] = temp_df['Delay [ps]'] - row['Delay [ps]']\n",
    "                dataframes_list.append(temp_df)\n",
    "        # checks the OSA folder for CSV files then append \n",
    "        elif dirs[k] == 'OSA' and Files[k][i].endswith('.CSV'):\n",
    "            data = []\n",
    "            with open('./ExperimentalData/'+dirs[k]+'/'+Files[k][i]) as f:\n",
    "                section = ''\n",
    "                for line in f:\n",
    "                    if line.strip() == '\"[TRACE DATA]\"':\n",
    "                        section = 'data'\n",
    "                    elif section == 'data':\n",
    "                        data.append([float(x) for x in line.strip().split(',')])\n",
    "                if i == 0:\n",
    "                    temp_df = pd.DataFrame(data, columns=['Wavelength' + str(i) + ' (nm)', 'Intensity' + str(i) + ' (dBm)'])\n",
    "                else:\n",
    "                    temp_df = temp_df.join(pd.DataFrame(data, columns=['Wavelength' + str(i) + ' (nm)', 'Intensity' + str(i) + ' (dBm)']))\n",
    "        # checks the OSCILLOSCOPE folder for files then append \n",
    "        elif dirs[k] == 'OSC':\n",
    "            data = []\n",
    "            with open('./ExperimentalData/'+dirs[k]+'/'+Files[k][i]) as f:\n",
    "                for line in f:\n",
    "                    line = line.strip().split(',')\n",
    "                    if is_number(line[0]):\n",
    "                        data.append([float(x) for x in line])\n",
    "                if i == 0:\n",
    "                    temp_df = pd.DataFrame(data, columns=['Time' + str(i) + ' (s)','Voltage' + str(i) + ' (V)'])\n",
    "                else:\n",
    "                    temp_df = temp_df.join(pd.DataFrame(data, columns=['Time' + str(i) + ' (s)','Voltage' + str(i) + ' (V)']))\n",
    "        # checks the RFSPECTRUM folder for csv files then append \n",
    "        elif dirs[k] == 'RF' and Files[k][i].endswith('.csv'):\n",
    "            with open('./ExperimentalData/'+dirs[k]+'/'+Files[k][i]) as f:\n",
    "                data=[]\n",
    "                section = ''\n",
    "                for line in f:\n",
    "                    if line == '\\n':\n",
    "                        section = 'data'\n",
    "                    elif section == 'data':\n",
    "                        line = line.strip().split(',')\n",
    "                        while('' in line):\n",
    "                            line.remove('')\n",
    "                        if is_number(line[0]):\n",
    "                            data.append(float(x) for x in line)\n",
    "                if i == 0:\n",
    "                    temp_df = pd.DataFrame(data,columns=['Frequency' + str(i) + ' (Hz)','Maximum' + str(i) + ' (dBm)', 'Minimum' + str(i) + ' (dBm)'])\n",
    "                else:\n",
    "                    temp_df = temp_df.join(pd.DataFrame(data,columns=['Frequency' + str(i) + ' (Hz)','Maximum' + str(i) + ' (dBm)', 'Minimum' + str(i) + ' (dBm)']))\n",
    "    dataframes_list.append(temp_df)  \n",
    "\n",
    "# display datasets\n",
    "# for dataset in dataframes_list:\n",
    "#    display(dataset)"
   ]
  },
  {
   "cell_type": "code",
   "execution_count": 47,
   "metadata": {},
   "outputs": [],
   "source": [
    "# input the type of file that needs to be compiled ('AC','OSA','OSC','RF')\n",
    "filetype = 'OSA'\n",
    "\n",
    "# set compile data save location\n",
    "compilefilelocation = './CompiledData/'\n",
    "dataframes_list[dirs.index(filetype)].to_csv(compilefilelocation + 'Compile' + filetype + '.csv', index=False )"
   ]
  },
  {
   "cell_type": "code",
   "execution_count": 68,
   "metadata": {},
   "outputs": [
    {
     "data": {
      "text/html": [
       "<div>\n",
       "<style scoped>\n",
       "    .dataframe tbody tr th:only-of-type {\n",
       "        vertical-align: middle;\n",
       "    }\n",
       "\n",
       "    .dataframe tbody tr th {\n",
       "        vertical-align: top;\n",
       "    }\n",
       "\n",
       "    .dataframe thead th {\n",
       "        text-align: right;\n",
       "    }\n",
       "</style>\n",
       "<table border=\"1\" class=\"dataframe\">\n",
       "  <thead>\n",
       "    <tr style=\"text-align: right;\">\n",
       "      <th></th>\n",
       "      <th>Time0 (s)</th>\n",
       "      <th>Voltage0 (V)</th>\n",
       "      <th>Time1 (s)</th>\n",
       "      <th>Voltage1 (V)</th>\n",
       "    </tr>\n",
       "  </thead>\n",
       "  <tbody>\n",
       "    <tr>\n",
       "      <th>0</th>\n",
       "      <td>-0.000170</td>\n",
       "      <td>0.000275</td>\n",
       "      <td>-2.400000e-07</td>\n",
       "      <td>0.005199</td>\n",
       "    </tr>\n",
       "    <tr>\n",
       "      <th>1</th>\n",
       "      <td>-0.000170</td>\n",
       "      <td>0.000474</td>\n",
       "      <td>-2.398000e-07</td>\n",
       "      <td>0.002855</td>\n",
       "    </tr>\n",
       "    <tr>\n",
       "      <th>2</th>\n",
       "      <td>-0.000170</td>\n",
       "      <td>0.000545</td>\n",
       "      <td>-2.396000e-07</td>\n",
       "      <td>0.000707</td>\n",
       "    </tr>\n",
       "    <tr>\n",
       "      <th>3</th>\n",
       "      <td>-0.000169</td>\n",
       "      <td>0.000397</td>\n",
       "      <td>-2.394000e-07</td>\n",
       "      <td>-0.003395</td>\n",
       "    </tr>\n",
       "    <tr>\n",
       "      <th>4</th>\n",
       "      <td>-0.000169</td>\n",
       "      <td>0.000346</td>\n",
       "      <td>-2.392000e-07</td>\n",
       "      <td>-0.007887</td>\n",
       "    </tr>\n",
       "    <tr>\n",
       "      <th>...</th>\n",
       "      <td>...</td>\n",
       "      <td>...</td>\n",
       "      <td>...</td>\n",
       "      <td>...</td>\n",
       "    </tr>\n",
       "    <tr>\n",
       "      <th>1995</th>\n",
       "      <td>0.000169</td>\n",
       "      <td>0.000409</td>\n",
       "      <td>1.590000e-07</td>\n",
       "      <td>-0.002027</td>\n",
       "    </tr>\n",
       "    <tr>\n",
       "      <th>1996</th>\n",
       "      <td>0.000169</td>\n",
       "      <td>0.000334</td>\n",
       "      <td>1.592000e-07</td>\n",
       "      <td>-0.001832</td>\n",
       "    </tr>\n",
       "    <tr>\n",
       "      <th>1997</th>\n",
       "      <td>0.000169</td>\n",
       "      <td>0.000407</td>\n",
       "      <td>1.594000e-07</td>\n",
       "      <td>-0.001637</td>\n",
       "    </tr>\n",
       "    <tr>\n",
       "      <th>1998</th>\n",
       "      <td>0.000170</td>\n",
       "      <td>0.000373</td>\n",
       "      <td>1.596000e-07</td>\n",
       "      <td>-0.000855</td>\n",
       "    </tr>\n",
       "    <tr>\n",
       "      <th>1999</th>\n",
       "      <td>0.000170</td>\n",
       "      <td>0.000323</td>\n",
       "      <td>1.598000e-07</td>\n",
       "      <td>-0.000074</td>\n",
       "    </tr>\n",
       "  </tbody>\n",
       "</table>\n",
       "<p>2000 rows × 4 columns</p>\n",
       "</div>"
      ],
      "text/plain": [
       "      Time0 (s)  Voltage0 (V)     Time1 (s)  Voltage1 (V)\n",
       "0     -0.000170      0.000275 -2.400000e-07      0.005199\n",
       "1     -0.000170      0.000474 -2.398000e-07      0.002855\n",
       "2     -0.000170      0.000545 -2.396000e-07      0.000707\n",
       "3     -0.000169      0.000397 -2.394000e-07     -0.003395\n",
       "4     -0.000169      0.000346 -2.392000e-07     -0.007887\n",
       "...         ...           ...           ...           ...\n",
       "1995   0.000169      0.000409  1.590000e-07     -0.002027\n",
       "1996   0.000169      0.000334  1.592000e-07     -0.001832\n",
       "1997   0.000169      0.000407  1.594000e-07     -0.001637\n",
       "1998   0.000170      0.000373  1.596000e-07     -0.000855\n",
       "1999   0.000170      0.000323  1.598000e-07     -0.000074\n",
       "\n",
       "[2000 rows x 4 columns]"
      ]
     },
     "execution_count": 68,
     "metadata": {},
     "output_type": "execute_result"
    }
   ],
   "source": [
    "dataframes_list[3]"
   ]
  },
  {
   "cell_type": "code",
   "execution_count": 57,
   "metadata": {},
   "outputs": [
    {
     "data": {
      "text/plain": [
       "<Axes: xlabel='Delay [ps]', ylabel='NormInt'>"
      ]
     },
     "execution_count": 57,
     "metadata": {},
     "output_type": "execute_result"
    },
    {
     "data": {
      "image/png": "[encoded data removed]",
      "text/plain": [
       "<Figure size 640x480 with 1 Axes>"
      ]
     },
     "metadata": {},
     "output_type": "display_data"
    }
   ],
   "source": [
    "sns.set_style(\"white\")\n",
    "sns.lineplot(dataframes_list[0],x=\"Delay [ps]\",y=\"NormInt\")"
   ]
  }
 ],
 "metadata": {
  "kernelspec": {
   "display_name": "Python 3",
   "language": "python",
   "name": "python3"
  },
  "language_info": {
   "codemirror_mode": {
    "name": "ipython",
    "version": 3
   },
   "file_extension": ".py",
   "mimetype": "text/x-python",
   "name": "python",
   "nbconvert_exporter": "python",
   "pygments_lexer": "ipython3",
   "version": "3.11.2"
  },
  "orig_nbformat": 4
 },
 "nbformat": 4,
 "nbformat_minor": 2
}
