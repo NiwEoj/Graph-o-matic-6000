{
 "cells": [
  {
   "attachments": {},
   "cell_type": "markdown",
   "metadata": {},
   "source": [
    "## Import all necessary modules"
   ]
  },
  {
   "cell_type": "code",
   "execution_count": 24,
   "metadata": {},
   "outputs": [],
   "source": [
    "import math, os\n",
    "from pathlib import Path\n",
    "import numpy as np\n",
    "import pandas as pd\n",
    "import matplotlib.pyplot as plt\n",
    "import seaborn as sns \n",
    "from scipy.interpolate import interp1d\n",
    "\n",
    "def is_number(s):\n",
    "    try:\n",
    "        float(s)\n",
    "        return True\n",
    "    except ValueError:\n",
    "        return False"
   ]
  },
  {
   "attachments": {},
   "cell_type": "markdown",
   "metadata": {},
   "source": [
    "## Prepare folder for data"
   ]
  },
  {
   "cell_type": "code",
   "execution_count": 58,
   "metadata": {},
   "outputs": [],
   "source": [
    "# check if the folders for ExperimentalData exists; if not, create one\n",
    "Path('./ExperimentalData/').mkdir(parents=True, exist_ok=True)\n",
    "Path('./CompiledData/').mkdir(parents=True, exist_ok=True)\n",
    "list_of_folders = ['AC','OSA','OSC','RF']\n",
    "for i in list_of_folders:\n",
    "    Path('./ExperimentalData/'+i+'/').mkdir(parents=True, exist_ok=True)\n"
   ]
  },
  {
   "attachments": {},
   "cell_type": "markdown",
   "metadata": {},
   "source": [
    "**Remember to place all data files in their corresponding folders before proceeding!**"
   ]
  },
  {
   "attachments": {},
   "cell_type": "markdown",
   "metadata": {},
   "source": [
    "## Read data in \"ExperimentalData\" folder"
   ]
  },
  {
   "cell_type": "code",
   "execution_count": 59,
   "metadata": {},
   "outputs": [],
   "source": [
    "# assign path and make a list of all files in directory\n",
    "# dirs will be the list of all folders (can use list_of_folders instead)....................................................................................................\n",
    "path, dirs, files = next(os.walk(\"./ExperimentalData/\"))\n",
    "file_count = len(files)\n",
    "Files=[]\n",
    "\n",
    "# this is to keep track of the directories of all the data files ('dis' is not a typo)\n",
    "for i in range(len(dirs)):\n",
    "    path, dis, files = next(os.walk(\"./ExperimentalData/\"+dirs[i]))\n",
    "    Files.append(files)\n",
    "    file_count = file_count + len(files)\n",
    "\n",
    "# create empty list\n",
    "dataframes_list = []\n",
    " \n",
    "# append datasets to the list \n",
    "for k in range(len(dirs)):\n",
    "    temp_df = []\n",
    "    for i in range(len(Files[k])):\n",
    "        # checks the AUTOCORRELATOR folder for txt files then append \n",
    "        if dirs[k] == 'AC' and Files[k][i].endswith('.txt'):\n",
    "            data=[]\n",
    "            with open('./ExperimentalData/'+dirs[k]+'/'+Files[k][i]) as file:\n",
    "                section, section2 = '',''\n",
    "                for line in file:\n",
    "                    if line.startswith(\"Delay\") == True:\n",
    "                        section = 'data'\n",
    "                        if len(line.strip().split('\\t')) == 1:\n",
    "                            line = line.strip().split()\n",
    "                            cname = line\n",
    "                            section2 = 'data' \n",
    "                        else:\n",
    "                            line = line.strip().split('\\t')\n",
    "                            cname = line  \n",
    "                    elif section == 'data': \n",
    "                        if section2 == 'data':\n",
    "                            line = line.strip().split()\n",
    "                            if is_number(line[0]):\n",
    "                                data.append(float(x) for x in line)\n",
    "                        else:\n",
    "                            line = line.strip().split('\\t')\n",
    "                            if is_number(line[0]):\n",
    "                                data.append(float(x) for x in line)\n",
    "                temper_df = pd.DataFrame(data,columns=cname)\n",
    "                temper_df.index = range(len(temper_df))\n",
    "                # add normalisation into data (min-max feature scaling method)\n",
    "                temper_df['NormInt' + str(i)] = (temper_df[cname[1]] - temper_df[cname[1]].min()) \\\n",
    "                / (temper_df[cname[1]].max() - temper_df[cname[1]].min())\n",
    "                temper_df['NormFit' + str(i)] = (temper_df[cname[2]] - temper_df[cname[2]].min()) \\\n",
    "                / (temper_df[cname[2]].max() - temper_df[cname[2]].min())\n",
    "                row_index = (temper_df == 1).any(axis=1).idxmax()\n",
    "                row = temper_df.loc[row_index]\n",
    "                temper_df[cname[0]] = temper_df[cname[0]] - row[cname[0]]\n",
    "                temper_df = temper_df.rename(columns={cname[0]:'Delay' + str(i) + '(ps)', cname[1]:'Intensity' + str(i), cname[2]:'Fit' + str(i)})\n",
    "                if i == 0:\n",
    "                    temp_df = temper_df\n",
    "                else: \n",
    "                    temp_df = temp_df.join(temper_df,how='outer')\n",
    "        # checks the OSA folder for CSV files then append \n",
    "        elif dirs[k] == 'OSA' and Files[k][i].endswith('.CSV'):\n",
    "            data = []\n",
    "            with open('./ExperimentalData/'+dirs[k]+'/'+Files[k][i]) as f:\n",
    "                section = ''\n",
    "                for line in f:\n",
    "                    if line.strip() == '\"[TRACE DATA]\"' or line.strip() == '[TRACE DATA]':\n",
    "                        section = 'data'\n",
    "                    elif section == 'data':\n",
    "                        data.append([float(x) for x in line.strip().split(',')])\n",
    "                if i == 0:\n",
    "                    temp_df = pd.DataFrame(data, columns=['Wavelength' + str(i) + ' (nm)', 'Intensity' + str(i) + ' (dBm)'])\n",
    "                else:\n",
    "                    temp_df = temp_df.join(pd.DataFrame(data, columns=['Wavelength' + str(i) + ' (nm)', 'Intensity' + str(i) + ' (dBm)']),how='outer')\n",
    "        # checks the OSCILLOSCOPE folder for files then append \n",
    "        elif dirs[k] == 'OSC':\n",
    "            data = []\n",
    "            with open('./ExperimentalData/'+dirs[k]+'/'+Files[k][i]) as f:\n",
    "                section = ''\n",
    "                for line in f:\n",
    "                    line = line.strip().split(',')\n",
    "                    if is_number(line[0]) or section == 'data':\n",
    "                        line = [x for x in line if x != '']\n",
    "                        data.append([float(x) for x in line])\n",
    "                    if line == '\\n':\n",
    "                        section = 'data'\n",
    "                if i == 0:\n",
    "                    temp_df = pd.DataFrame(data, columns=['Time' + str(i) + ' (s)','Voltage' + str(i) + ' (V)'])\n",
    "                else:\n",
    "                    temp_df = temp_df.join(pd.DataFrame(data, columns=['Time' + str(i) + ' (s)','Voltage' + str(i) + ' (V)']),how='outer')\n",
    "        # checks the RFSPECTRUM folder for csv files then append \n",
    "        elif dirs[k] == 'RF' and Files[k][i].endswith('.csv'):\n",
    "            with open('./ExperimentalData/'+dirs[k]+'/'+Files[k][i]) as f:\n",
    "                data=[]\n",
    "                section = ''\n",
    "                for line in f:\n",
    "                    if line == '\\n':\n",
    "                        section = 'data'\n",
    "                    elif section == 'data':\n",
    "                        line = line.strip().split(',')\n",
    "                        while('' in line):\n",
    "                            line.remove('')\n",
    "                        if is_number(line[0]):\n",
    "                            data.append(float(x) for x in line)\n",
    "                if i == 0:\n",
    "                    temp_df = pd.DataFrame(data,columns=['Frequency' + str(i) + ' (Hz)','Maximum' + str(i) + ' (dBm)', 'Minimum' + str(i) + ' (dBm)'])\n",
    "                else:\n",
    "                    temp_df = temp_df.join(pd.DataFrame(data,columns=['Frequency' + str(i) + ' (Hz)','Maximum' + str(i) + ' (dBm)', 'Minimum' + str(i) + ' (dBm)']),how='outer')\n",
    "    dataframes_list.append(temp_df)  \n"
   ]
  },
  {
   "cell_type": "code",
   "execution_count": 60,
   "metadata": {},
   "outputs": [],
   "source": [
    "# set compile data save location\n",
    "for x in list_of_folders:  \n",
    "    compilefilelocation = './CompiledData/'\n",
    "    if len(dataframes_list[dirs.index(x)]) > 0:\n",
    "        dataframes_list[dirs.index(x)].to_csv(compilefilelocation + 'Compile' + x + '.csv',index=False)"
   ]
  },
  {
   "cell_type": "markdown",
   "metadata": {},
   "source": [
    "## Read Compiled Data"
   ]
  },
  {
   "cell_type": "code",
   "execution_count": 61,
   "metadata": {},
   "outputs": [],
   "source": [
    "# read compiled data\n",
    "filepath = \"./CompiledData/\" + 'Compile' + 'OSC' + '.csv'\n",
    "# filepath = \"C:/Users/HP/Desktop/OneDrive - Universiti Malaya/PRC/Experiments/THDFL + HDFL/THDF + NiMOF Bulend (2)/CompiledData/2024 06 13 CompileOSC.csv\"\n",
    "dataframes_list = pd.read_csv(filepath)"
   ]
  },
  {
   "cell_type": "code",
   "execution_count": 62,
   "metadata": {},
   "outputs": [
    {
     "data": {
      "image/png": "[encoded data removed]",
      "text/plain": [
       "<Figure size 640x480 with 4 Axes>"
      ]
     },
     "metadata": {},
     "output_type": "display_data"
    }
   ],
   "source": [
    "if \"CompileAC\" in filepath:\n",
    "    k = 5\n",
    "    kk = 1\n",
    "elif \"CompileRF\" in filepath:\n",
    "    k = 3\n",
    "    kk = 2\n",
    "else:\n",
    "    k = 2\n",
    "    kk = 1\n",
    "\n",
    "figure, axes = plt.subplots(math.ceil(len(dataframes_list.columns)/k/4),4)\n",
    "n = 0\n",
    "\n",
    "for x in range(0,math.ceil(len(dataframes_list.columns)/k/4)):\n",
    "    if math.ceil(len(dataframes_list.columns)/k) > 4:\n",
    "        for y in range(0,4):    \n",
    "            if n < len(dataframes_list.columns):\n",
    "                axes[x,y].plot(dataframes_list.iloc[:,n],dataframes_list.iloc[:,n+k-kk])\n",
    "                n = n + k\n",
    "    else:    \n",
    "        if n < len(dataframes_list.columns):\n",
    "            axes[x].plot(dataframes_list.iloc[:,n],dataframes_list.iloc[:,n+k-kk])\n",
    "            n = n + k"
   ]
  },
  {
   "cell_type": "code",
   "execution_count": 170,
   "metadata": {},
   "outputs": [
    {
     "name": "stdout",
     "output_type": "stream",
     "text": [
      "pulse interval is  6.994685714285716e-08 s\n",
      "pulse rate is  14.296568006731638 MHz\n"
     ]
    },
    {
     "data": {
      "image/png": "[encoded data removed]",
      "text/plain": [
       "<Figure size 640x480 with 1 Axes>"
      ]
     },
     "metadata": {},
     "output_type": "display_data"
    },
    {
     "data": {
      "text/plain": [
       "<Figure size 800x400 with 0 Axes>"
      ]
     },
     "metadata": {},
     "output_type": "display_data"
    }
   ],
   "source": [
    "n = k*0\n",
    "\n",
    "x = dataframes_list.iloc[:,n]\n",
    "y = dataframes_list.iloc[:,n+k-kk]\n",
    "plt.plot(x,y)\n",
    "\n",
    "sns.set_style(style='darkgrid')\n",
    "sns.color_palette('deep')\n",
    "plt.xlabel('Wavelength (nm)')\n",
    "plt.ylabel('Intensity (a.u.)')\n",
    "plt.rc('axes', titlesize=18)\n",
    "plt.rc('axes', labelsize=14)\n",
    "plt.rc('xtick', labelsize=13)\n",
    "plt.rc('ytick', labelsize=13)\n",
    "plt.rc('legend', fontsize=13)\n",
    "plt.rc('font', size=13)\n",
    "plt.figure(figsize=(8,4), tight_layout=True)\n",
    "\n",
    "# normalise data\n",
    "y_norm = (y - y.min())/(y.max()-y.min())\n",
    "y_peaks = []\n",
    "Y_peaks = []\n",
    "\n",
    "if \"CompileOSC\" in filepath:\n",
    "    loaddat = ['Pulse interval','Pulse rate (MHz)']\n",
    "    # calculate pulse interval from OSC\n",
    "    # filter out peaks\n",
    "    for i in range(len(y_norm)):\n",
    "        if y_norm[i] > 0.75 and max(y_norm[i-5],y_norm[i-4],y_norm[i-3],y_norm[i],y_norm[i+3],y_norm[i+4],y_norm[i+5]) == y_norm[i]:\n",
    "            y_peaks.append(i)\n",
    "\n",
    "    for i in range(len(y_peaks)):\n",
    "        if i == 0:\n",
    "            startY = y_peaks[i]\n",
    "            endY = y_peaks[i]\n",
    "        elif y_peaks[i] - y_peaks[i-1] < 10:\n",
    "            endY = y_peaks[i]\n",
    "        else:\n",
    "            Y_peaks.append(math.ceil((startY+endY)/2))\n",
    "            startY = y_peaks[i]\n",
    "    Y_peaks.append(math.ceil((startY+endY)/2))\n",
    "\n",
    "    # calculate pulse interval\n",
    "    x_peaks = x[Y_peaks]\n",
    "    print(\"pulse interval is \", np.diff(x_peaks).mean(), \"s\")\n",
    "    print(\"pulse rate is \", 1/np.diff(x_peaks).mean()/1000000, \"MHz\")\n",
    "\n",
    "elif \"CompileAC\" in filepath:\n",
    "    loaddat = ['Center wavelength','FWHM']\n",
    "    # find center wavelength\n",
    "    for i in range(len(y_norm)):\n",
    "        if (y_norm[i] > 0.75 and max(y_norm[i-2],y_norm[i-1],y_norm[i],y_norm[i+1],y_norm[i+2]) == y_norm[i]\n",
    "            and y[i]-y[i+1] < 0.5 and y[i]-y[i+2] < 0.5\n",
    "        ):\n",
    "            y_peaks.append(i)\n",
    "\n",
    "    for i in range(len(y_norm)):\n",
    "        if (y[i]-y[i-1] < 0.5 and y[i]-y[i-2] < 0.5 and max(y_norm[i-5],y_norm[i-4],y_norm[i-3],y_norm[i],y_norm[i+3],y_norm[i+4],y_norm[i+5]) == y_norm[i]\n",
    "            and y[i+5]-y[i-5] < 1 and y[i]-y[i+3] < 1\n",
    "        ):\n",
    "            Y_peaks.append(i)\n",
    "\n",
    "    if len(Y_peaks) == 1:\n",
    "        for i in range(Y_peaks[0],0,-1):\n",
    "            if y[Y_peaks[0]]-y[i] > 3:\n",
    "                break\n",
    "        fwhm_0 = i\n",
    "        for i in range(Y_peaks[0],len(y)):\n",
    "            if y[Y_peaks[0]]-y[i] > 3:\n",
    "                break\n",
    "        fwhm_1 = i\n",
    "        print(\"3dB bandwidth: \", round(x[fwhm_1]-x[fwhm_0+1],4), \"nm\")\n",
    "\n",
    "    "
   ]
  },
  {
   "cell_type": "code",
   "execution_count": 174,
   "metadata": {},
   "outputs": [
    {
     "data": {
      "text/plain": [
       "14296568.006731639"
      ]
     },
     "execution_count": 174,
     "metadata": {},
     "output_type": "execute_result"
    }
   ],
   "source": [
    "1/np.diff(x_peaks).mean()"
   ]
  },
  {
   "cell_type": "code",
   "execution_count": 155,
   "metadata": {},
   "outputs": [
    {
     "data": {
      "text/html": [
       "<div>\n",
       "<style scoped>\n",
       "    .dataframe tbody tr th:only-of-type {\n",
       "        vertical-align: middle;\n",
       "    }\n",
       "\n",
       "    .dataframe tbody tr th {\n",
       "        vertical-align: top;\n",
       "    }\n",
       "\n",
       "    .dataframe thead th {\n",
       "        text-align: right;\n",
       "    }\n",
       "</style>\n",
       "<table border=\"1\" class=\"dataframe\">\n",
       "  <thead>\n",
       "    <tr style=\"text-align: right;\">\n",
       "      <th></th>\n",
       "      <th>Pulse interval</th>\n",
       "      <th>Pulse rate (MHz)</th>\n",
       "    </tr>\n",
       "  </thead>\n",
       "  <tbody>\n",
       "    <tr>\n",
       "      <th>0</th>\n",
       "      <td>1.999396e-09</td>\n",
       "      <td>500.151066</td>\n",
       "    </tr>\n",
       "  </tbody>\n",
       "</table>\n",
       "</div>"
      ],
      "text/plain": [
       "   Pulse interval  Pulse rate (MHz)\n",
       "0    1.999396e-09        500.151066"
      ]
     },
     "metadata": {},
     "output_type": "display_data"
    }
   ],
   "source": [
    "dict = {loaddat[0]:[],\n",
    "        loaddat[1]:[]\n",
    "       }\n",
    "pulsedat = pd.DataFrame(dict)\n",
    "\n",
    "\n",
    "if loaddat[0] == 'Pulse interval':\n",
    "    for j in range(int(len(dataframes_list.columns)/2)):\n",
    "        n = k*j\n",
    "        x = dataframes_list.iloc[:,n]\n",
    "        y = dataframes_list.iloc[:,n+k-1]\n",
    "\n",
    "        # normalise data\n",
    "        y_norm = (y - y.min())/(y.max()-y.min())\n",
    "        y_peaks = []\n",
    "\n",
    "        # calculate pulse interval from OSC\n",
    "        # filter out peaks\n",
    "        try:\n",
    "            for i in range(len(y_norm)):\n",
    "                if y_norm[i] > 0.75 and max(y_norm[i-1],y_norm[i],y_norm[i+1]) == y_norm[i]:\n",
    "                    y_peaks.append(i)\n",
    "\n",
    "            # calculate pulse interval\n",
    "            x_peaks = x[y_peaks]\n",
    "            pulsedat.loc[len(pulsedat.index)] = [np.diff(x_peaks).mean(),1/np.diff(x_peaks).mean()/1000000]\n",
    "        except:\n",
    "            pulsedat.loc[len(pulsedat.index)] = [\"ERROR\",\"ERROR\"]\n",
    "    display(pulsedat)\n",
    "elif loaddat[0] == 'Center wavelength':\n",
    "    for j in range(int(len(dataframes_list.columns)/2)):\n",
    "        n = k*j\n",
    "        x = dataframes_list.iloc[:,n]\n",
    "        y = dataframes_list.iloc[:,n+k-1]\n",
    "\n",
    "        # normalise data\n",
    "        y_norm = (y - y.min())/(y.max()-y.min())\n",
    "        y_peaks = []\n",
    "        Y_peaks = []\n",
    "        loaddat = ['Center wavelength','FWHM']\n",
    "\n",
    "        # find center wavelength\n",
    "        for i in range(len(y_norm)):\n",
    "            if (y_norm[i] > 0.75 and max(y_norm[i-2],y_norm[i-1],y_norm[i],y_norm[i+1],y_norm[i+2]) == y_norm[i]\n",
    "                and y[i]-y[i+1] < 0.5 and y[i]-y[i+2] < 0.5\n",
    "            ):\n",
    "                y_peaks.append(i)\n",
    "\n",
    "        for i in y_peaks:\n",
    "            if (y[i]-y[i-1] < 0.5 and y[i]-y[i-2] < 0.5 and max(y_norm[i-5],y_norm[i-4],y_norm[i-3],y_norm[i],y_norm[i+3],y_norm[i+4],y_norm[i+5]) == y_norm[i]\n",
    "                and y[i+5]-y[i-5] < 1 and y[i]-y[i+3] < 1\n",
    "            ):\n",
    "                Y_peaks.append(i)\n",
    "\n",
    "        if len(Y_peaks) == 1:\n",
    "            for i in range(Y_peaks[0],0,-1):\n",
    "                if y[Y_peaks[0]]-y[i] > 3:\n",
    "                    break\n",
    "            fwhm_0 = i\n",
    "            for i in range(Y_peaks[0],len(y)):\n",
    "                if y[Y_peaks[0]]-y[i] > 3:\n",
    "                    break\n",
    "            fwhm_1 = i\n",
    "\n",
    "            pulsedat.loc[len(pulsedat.index)] = [x[Y_peaks[0]],round(x[fwhm_1]-x[fwhm_0+1],4)]\n",
    "        else:\n",
    "            pulsedat.loc[len(pulsedat.index)] = ['ERROR','ERROR']\n",
    "    display(pulsedat)"
   ]
  }
 ],
 "metadata": {
  "kernelspec": {
   "display_name": "Python 3",
   "language": "python",
   "name": "python3"
  },
  "language_info": {
   "codemirror_mode": {
    "name": "ipython",
    "version": 3
   },
   "file_extension": ".py",
   "mimetype": "text/x-python",
   "name": "python",
   "nbconvert_exporter": "python",
   "pygments_lexer": "ipython3",
   "version": "3.11.2"
  },
  "orig_nbformat": 4
 },
 "nbformat": 4,
 "nbformat_minor": 2
}
