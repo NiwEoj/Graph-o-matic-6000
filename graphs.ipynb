{
 "cells": [
  {
   "attachments": {},
   "cell_type": "markdown",
   "metadata": {},
   "source": [
    "## Import all necessary modules"
   ]
  },
  {
   "cell_type": "code",
   "execution_count": 5,
   "metadata": {},
   "outputs": [],
   "source": [
    "import math,os\n",
    "import numpy as np\n",
    "import pandas as pd\n",
    "import matplotlib.pyplot as plt\n",
    "import seaborn as sns "
   ]
  },
  {
   "attachments": {},
   "cell_type": "markdown",
   "metadata": {},
   "source": [
    "## Read data in \"ExperimentalData\" folder"
   ]
  },
  {
   "cell_type": "code",
   "execution_count": 3,
   "metadata": {},
   "outputs": [
    {
     "ename": "NameError",
     "evalue": "name 'os' is not defined",
     "output_type": "error",
     "traceback": [
      "\u001b[1;31m---------------------------------------------------------------------------\u001b[0m",
      "\u001b[1;31mNameError\u001b[0m                                 Traceback (most recent call last)",
      "Cell \u001b[1;32mIn[3], line 2\u001b[0m\n\u001b[0;32m      1\u001b[0m \u001b[39m# assign path and make a list of all files in directory\u001b[39;00m\n\u001b[1;32m----> 2\u001b[0m path, dirs, files \u001b[39m=\u001b[39m \u001b[39mnext\u001b[39m(os\u001b[39m.\u001b[39mwalk(\u001b[39m\"\u001b[39m\u001b[39m./ExperimentalData/\u001b[39m\u001b[39m\"\u001b[39m))\n\u001b[0;32m      3\u001b[0m file_count \u001b[39m=\u001b[39m \u001b[39mlen\u001b[39m(files)\n\u001b[0;32m      4\u001b[0m Files\u001b[39m=\u001b[39m[]\n",
      "\u001b[1;31mNameError\u001b[0m: name 'os' is not defined"
     ]
    }
   ],
   "source": [
    "# assign path and make a list of all files in directory\n",
    "path, dirs, files = next(os.walk(\"./ExperimentalData/\"))\n",
    "file_count = len(files)\n",
    "Files=[]\n",
    "\n",
    "for i in range(len(dirs)):\n",
    "    path, dis, files = next(os.walk(\"./ExperimentalData/\"+dirs[i]))\n",
    "    Files.append(files)\n",
    "    file_count = file_count + len(files)\n",
    "\n",
    "# create empty list\n",
    "dataframes_list = []\n",
    " \n",
    "# append datasets to the list (checks if it is CSV before doing so)\n",
    "for k in range(len(dirs)):\n",
    "    for i in range(len(Files[k])):\n",
    "        if Files[k][i].endswith(\".csv\"):\n",
    "        #if dirs[k] == 'OSCILLOSCOPE'\n",
    "            temp_df = pd.read_csv(\"./ExperimentalData/\"+dirs[k]+\"/\"+Files[k][i])\n",
    "            dataframes_list.append(temp_df)\n",
    "        #elif dirs[k] == 'OSA':\n",
    "            #insert code below \n",
    "        #elif dirs[k] == 'AUTOCORRELATOR':\n",
    "\n",
    "# display datasets\n",
    "for dataset in dataframes_list:\n",
    "    display(dataset)"
   ]
  },
  {
   "cell_type": "code",
   "execution_count": 1,
   "metadata": {},
   "outputs": [
    {
     "ename": "FileNotFoundError",
     "evalue": "[Errno 2] No such file or directory: './ExperimentalData/pop/OSA reading at 790 mA 1850 - 1950 nm (1835).CSV'",
     "output_type": "error",
     "traceback": [
      "\u001b[1;31m---------------------------------------------------------------------------\u001b[0m",
      "\u001b[1;31mFileNotFoundError\u001b[0m                         Traceback (most recent call last)",
      "Cell \u001b[1;32mIn[1], line 4\u001b[0m\n\u001b[0;32m      2\u001b[0m data \u001b[39m=\u001b[39m []\n\u001b[0;32m      3\u001b[0m i,k,l\u001b[39m=\u001b[39m\u001b[39m0\u001b[39m,\u001b[39m0\u001b[39m,\u001b[39m0\u001b[39m\n\u001b[1;32m----> 4\u001b[0m \u001b[39mwith\u001b[39;00m \u001b[39mopen\u001b[39;49m(\u001b[39m'\u001b[39;49m\u001b[39m./ExperimentalData/pop/OSA reading at 790 mA 1850 - 1950 nm (1835).CSV\u001b[39;49m\u001b[39m'\u001b[39;49m) \u001b[39mas\u001b[39;00m f:\n\u001b[0;32m      5\u001b[0m     section \u001b[39m=\u001b[39m \u001b[39m'\u001b[39m\u001b[39m'\u001b[39m\n\u001b[0;32m      6\u001b[0m     \u001b[39mfor\u001b[39;00m line \u001b[39min\u001b[39;00m f:\n",
      "File \u001b[1;32m~\\AppData\\Local\\Packages\\PythonSoftwareFoundation.Python.3.11_qbz5n2kfra8p0\\LocalCache\\local-packages\\Python311\\site-packages\\IPython\\core\\interactiveshell.py:282\u001b[0m, in \u001b[0;36m_modified_open\u001b[1;34m(file, *args, **kwargs)\u001b[0m\n\u001b[0;32m    275\u001b[0m \u001b[39mif\u001b[39;00m file \u001b[39min\u001b[39;00m {\u001b[39m0\u001b[39m, \u001b[39m1\u001b[39m, \u001b[39m2\u001b[39m}:\n\u001b[0;32m    276\u001b[0m     \u001b[39mraise\u001b[39;00m \u001b[39mValueError\u001b[39;00m(\n\u001b[0;32m    277\u001b[0m         \u001b[39mf\u001b[39m\u001b[39m\"\u001b[39m\u001b[39mIPython won\u001b[39m\u001b[39m'\u001b[39m\u001b[39mt let you open fd=\u001b[39m\u001b[39m{\u001b[39;00mfile\u001b[39m}\u001b[39;00m\u001b[39m by default \u001b[39m\u001b[39m\"\u001b[39m\n\u001b[0;32m    278\u001b[0m         \u001b[39m\"\u001b[39m\u001b[39mas it is likely to crash IPython. If you know what you are doing, \u001b[39m\u001b[39m\"\u001b[39m\n\u001b[0;32m    279\u001b[0m         \u001b[39m\"\u001b[39m\u001b[39myou can use builtins\u001b[39m\u001b[39m'\u001b[39m\u001b[39m open.\u001b[39m\u001b[39m\"\u001b[39m\n\u001b[0;32m    280\u001b[0m     )\n\u001b[1;32m--> 282\u001b[0m \u001b[39mreturn\u001b[39;00m io_open(file, \u001b[39m*\u001b[39;49margs, \u001b[39m*\u001b[39;49m\u001b[39m*\u001b[39;49mkwargs)\n",
      "\u001b[1;31mFileNotFoundError\u001b[0m: [Errno 2] No such file or directory: './ExperimentalData/pop/OSA reading at 790 mA 1850 - 1950 nm (1835).CSV'"
     ]
    }
   ],
   "source": [
    "params = {}\n",
    "data = []\n",
    "with open('./ExperimentalData/pop/OSA reading at 790 mA 1850 - 1950 nm (1835).CSV') as f:\n",
    "    section = ''\n",
    "    for line in f:\n",
    "        if line.strip() == '\"[TRACE DATA]\"':\n",
    "            section = 'data'\n",
    "        elif section == 'data':\n",
    "            data.append([float(x) for x in line.strip().split(',')])\n",
    "\n",
    "df = pd.DataFrame(data, columns=['Wavelength', 'Intensity'])"
   ]
  },
  {
   "cell_type": "code",
   "execution_count": 9,
   "metadata": {},
   "outputs": [
    {
     "name": "stdout",
     "output_type": "stream",
     "text": [
      "lol\n"
     ]
    }
   ],
   "source": [
    "if dirs[0] == 'HII':\n",
    "    print(\"lol\")"
   ]
  },
  {
   "attachments": {},
   "cell_type": "markdown",
   "metadata": {},
   "source": [
    "autocorrelator reading is readable but need to check for \".txt\" \n",
    "\n",
    "RF reading (1000-o...) is readable but need cleaning\n",
    "\n",
    "OSA reading is not readable because there are no commas in the first three lines\n",
    "\n",
    "oscilloscope is no problemo!"
   ]
  }
 ],
 "metadata": {
  "kernelspec": {
   "display_name": "Python 3",
   "language": "python",
   "name": "python3"
  },
  "language_info": {
   "codemirror_mode": {
    "name": "ipython",
    "version": 3
   },
   "file_extension": ".py",
   "mimetype": "text/x-python",
   "name": "python",
   "nbconvert_exporter": "python",
   "pygments_lexer": "ipython3",
   "version": "3.11.2"
  },
  "orig_nbformat": 4
 },
 "nbformat": 4,
 "nbformat_minor": 2
}
